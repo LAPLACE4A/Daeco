{
 "cells": [
  {
   "cell_type": "code",
   "execution_count": 1,
   "id": "09f014cf-198b-4d1c-9bda-5e6859fd0e3e",
   "metadata": {},
   "outputs": [],
   "source": [
    "# 필요한 상수\n",
    "mbti2list = {\"ISTJ\":[-1, 4], \"ISTP\":[3, -1],\n",
    "            \"ISFJ\":[-5, -2], \"ISFP\":[-3, -1],\n",
    "            \"INTJ\":[4, 5], \"INTP\":[-2, 5],\n",
    "            \"INFJ\":[0, 5], \"INFP\":[0, 0],\n",
    "            \"ESTJ\":[4, 1], \"ESTP\":[5, 5],\n",
    "            \"ESFJ\":[-1, -2], \"ESFP\":[-4, -5],\n",
    "            \"ENTJ\":[4, 4], \"ENTP\":[3, 4],\n",
    "            \"ENFJ\":[-3, 3], \"ENFP\":[-4, 1]}\n",
    "\n",
    "weather2list = {\"sunny_hot\":[3, -1], \"sunny_warm\":[3, 1], \"sunny_cool\":[3, 1], \"sunny_cold\":[3, -1],\n",
    "                 \"cloudy_hot\":[1, -1], \"cloudy_warm\":[1, 1], \"cloudy_cool\":[1, 1], \"cloudy_cold\":[1, -1],\n",
    "                 \"rainy_hot\":[-3, -1], \"rainy_warm\":[-3, 1], \"rainy_cool\":[-3, 1], \"rainy_cold\":[-3, -1],\n",
    "                 \"snowy_cold\":[-2, -1]}\n",
    "\n",
    "gender2value = {\"male\":-1, \"female\":1}\n",
    "\n",
    "file_path = \"review.csv\""
   ]
  },
  {
   "cell_type": "code",
   "execution_count": 2,
   "id": "21866ddd-b3c1-48d1-85b2-de4481517ce1",
   "metadata": {},
   "outputs": [],
   "source": [
    "import csv, copy\n",
    "\n",
    "total_data = []\n",
    "total_label = []\n",
    "with open(file_path, mode='r', encoding='utf-8') as f:\n",
    "    csv_reader = csv.reader(f)\n",
    "\n",
    "    data = []\n",
    "    \n",
    "    next(csv_reader) # 설명 제거\n",
    "    for line in csv_reader:\n",
    "        data = []\n",
    "        # 성별\n",
    "        data.append(gender2value[line[6]])\n",
    "\n",
    "        # 나이\n",
    "        data.append(int(line[7])/15 -1)\n",
    "\n",
    "        # mbti\n",
    "        mbti = copy.deepcopy(mbti2list[line[8]])\n",
    "        mbti[0] /= 10\n",
    "        mbti[1] /= 10\n",
    "        data.append(mbti[0])\n",
    "        data.append(mbti[1])\n",
    "\n",
    "        # 날씨\n",
    "        weather = copy.deepcopy(weather2list[line[5]])\n",
    "        weather[0] /= 6\n",
    "        weather[1] /= 6\n",
    "        data.append(weather[0])\n",
    "        data.append(weather[1])\n",
    "        \n",
    "        total_data.append(data)\n",
    "\n",
    "        label = [2.5] * 20\n",
    "        label[int(line[1])-1] = float(line[2])\n",
    "        total_label.append(label)"
   ]
  },
  {
   "cell_type": "code",
   "execution_count": 3,
   "id": "f4fb379b-31b3-4a40-8ff1-bc8b11073d22",
   "metadata": {},
   "outputs": [
    {
     "name": "stdout",
     "output_type": "stream",
     "text": [
      "[[1, 1.0, -0.4, -0.5, 0.5, -0.16666666666666666], [-1, 0.19999999999999996, 0.4, 0.5, 0.5, -0.16666666666666666], [-1, 0.33333333333333326, 0.0, 0.0, -0.5, -0.16666666666666666], [-1, 0.7333333333333334, 0.0, 0.5, 0.16666666666666666, 0.16666666666666666], [-1, 0.7333333333333334, 0.0, 0.5, -0.5, -0.16666666666666666], [1, 0.19999999999999996, -0.4, -0.5, -0.5, 0.16666666666666666], [1, 0.19999999999999996, -0.4, -0.5, 0.16666666666666666, -0.16666666666666666], [1, 0.19999999999999996, -0.4, -0.5, 0.5, -0.16666666666666666], [1, 0.8, -0.4, -0.5, -0.3333333333333333, -0.16666666666666666], [1, 1.2000000000000002, -0.4, -0.5, -0.5, 0.16666666666666666], [1, 0.1333333333333333, 0.3, -0.1, 0.5, -0.16666666666666666], [1, 0.1333333333333333, 0.3, -0.1, 0.5, 0.16666666666666666], [-1, 0.1333333333333333, 0.3, 0.4, 0.5, 0.16666666666666666], [1, 0.6000000000000001, 0.3, -0.1, 0.16666666666666666, 0.16666666666666666], [1, 0.6666666666666667, 0.3, 0.4, -0.5, -0.16666666666666666], [1, 0.8666666666666667, 0.4, 0.4, 0.5, -0.16666666666666666], [1, 0.8666666666666667, 0.4, 0.4, 0.16666666666666666, 0.16666666666666666], [1, 0.1333333333333333, 0.3, 0.4, 0.5, 0.16666666666666666], [1, 1.0666666666666669, 0.4, 0.4, 0.5, -0.16666666666666666], [1, 1.1333333333333333, 0.5, 0.5, 0.5, 0.16666666666666666], [1, 0.6000000000000001, 0.3, -0.1, -0.5, 0.16666666666666666], [1, 0.6000000000000001, 0.3, -0.1, 0.16666666666666666, -0.16666666666666666], [-1, 0.2666666666666666, -0.2, 0.5, 0.5, -0.16666666666666666], [-1, 0.2666666666666666, -0.2, 0.5, 0.5, -0.16666666666666666], [1, 0.7333333333333334, -0.3, 0.3, -0.5, 0.16666666666666666], [1, 0.7333333333333334, -0.3, 0.3, -0.5, 0.16666666666666666], [1, 0.2666666666666666, 0.5, 0.5, 0.5, 0.16666666666666666], [1, 1.1333333333333333, 0.0, 0.0, -0.5, -0.16666666666666666], [1, 0.19999999999999996, -0.4, -0.5, 0.16666666666666666, -0.16666666666666666], [-1, 0.6000000000000001, -0.1, -0.2, 0.5, 0.16666666666666666], [-1, 0.19999999999999996, 0.3, 0.4, 0.5, 0.16666666666666666], [-1, 0.46666666666666656, -0.5, -0.2, 0.16666666666666666, 0.16666666666666666], [-1, 0.33333333333333326, 0.3, -0.1, 0.16666666666666666, -0.16666666666666666], [-1, 0.5333333333333334, 0.3, -0.1, -0.5, 0.16666666666666666], [-1, 0.5333333333333334, 0.3, -0.1, -0.5, -0.16666666666666666], [1, 0.2666666666666666, -0.1, -0.2, 0.5, -0.16666666666666666], [1, 0.2666666666666666, -0.1, -0.2, 0.5, -0.16666666666666666], [-1, 0.2666666666666666, 0.0, 0.5, 0.5, 0.16666666666666666], [1, 0.6000000000000001, 0.4, 0.5, 0.5, -0.16666666666666666], [1, 0.6000000000000001, 0.4, 0.5, 0.16666666666666666, -0.16666666666666666], [1, 0.19999999999999996, -0.3, 0.3, -0.3333333333333333, -0.16666666666666666], [1, 0.6000000000000001, -0.4, 0.1, -0.5, -0.16666666666666666], [1, 0.0, -0.4, 0.1, -0.5, 0.16666666666666666], [-1, 0.3999999999999999, -0.5, -0.2, 0.5, 0.16666666666666666], [-1, 0.3999999999999999, -0.5, -0.2, -0.5, -0.16666666666666666], [-1, 0.3999999999999999, -0.5, -0.2, 0.5, 0.16666666666666666], [-1, 0.5333333333333334, -0.5, -0.2, 0.16666666666666666, -0.16666666666666666], [1, 0.5333333333333334, 0.3, -0.1, -0.3333333333333333, -0.16666666666666666], [1, 0.06666666666666665, -0.3, 0.3, 0.5, -0.16666666666666666], [-1, 0.6666666666666667, -0.3, 0.3, 0.5, 0.16666666666666666], [-1, 0.2666666666666666, -0.2, 0.5, 0.16666666666666666, 0.16666666666666666], [1, 0.2666666666666666, 0.4, 0.4, 0.5, -0.16666666666666666], [-1, 0.46666666666666656, -0.2, 0.5, 0.5, -0.16666666666666666], [1, 0.3999999999999999, -0.3, 0.3, -0.5, 0.16666666666666666], [1, 0.33333333333333326, 0.3, -0.1, 0.5, -0.16666666666666666], [-1, 0.6000000000000001, 0.3, 0.4, 0.5, 0.16666666666666666], [-1, 0.1333333333333333, 0.0, 0.0, 0.16666666666666666, -0.16666666666666666], [1, 0.0, -0.3, -0.1, -0.5, -0.16666666666666666], [1, 0.6666666666666667, 0.5, 0.5, -0.5, 0.16666666666666666], [1, 0.19999999999999996, -0.1, -0.2, -0.5, 0.16666666666666666]]\n"
     ]
    }
   ],
   "source": [
    "print(total_data)"
   ]
  },
  {
   "cell_type": "code",
   "execution_count": 4,
   "id": "fb99f16d-b534-4a57-96ea-0d26ff81c380",
   "metadata": {},
   "outputs": [
    {
     "name": "stdout",
     "output_type": "stream",
     "text": [
      "[[2.5, 2.5, 2.5, 2.5, 2.5, 2.5, 2.5, 2.5, 2.5, 2.5, 2.5, 2.5, 5.0, 2.5, 2.5, 2.5, 2.5, 2.5, 2.5, 2.5], [2.5, 2.5, 2.5, 2.5, 2.5, 2.5, 2.5, 2.5, 2.5, 2.5, 2.5, 2.5, 2.5, 2.5, 2.5, 2.5, 2.5, 2.5, 2.5, 3.5], [2.5, 4.0, 2.5, 2.5, 2.5, 2.5, 2.5, 2.5, 2.5, 2.5, 2.5, 2.5, 2.5, 2.5, 2.5, 2.5, 2.5, 2.5, 2.5, 2.5], [2.5, 2.5, 2.5, 2.5, 2.5, 2.5, 2.5, 2.5, 2.5, 2.5, 2.5, 2.5, 2.5, 2.5, 2.5, 2.5, 2.5, 2.5, 5.0, 2.5], [2.5, 2.5, 4.0, 2.5, 2.5, 2.5, 2.5, 2.5, 2.5, 2.5, 2.5, 2.5, 2.5, 2.5, 2.5, 2.5, 2.5, 2.5, 2.5, 2.5], [2.5, 2.5, 2.5, 2.5, 2.5, 2.5, 2.5, 3.5, 2.5, 2.5, 2.5, 2.5, 2.5, 2.5, 2.5, 2.5, 2.5, 2.5, 2.5, 2.5], [2.5, 2.5, 2.5, 2.5, 2.5, 2.5, 2.5, 2.5, 2.5, 2.5, 2.5, 2.5, 2.5, 2.5, 2.5, 5.0, 2.5, 2.5, 2.5, 2.5], [2.5, 2.5, 2.5, 2.5, 2.5, 2.5, 4.5, 2.5, 2.5, 2.5, 2.5, 2.5, 2.5, 2.5, 2.5, 2.5, 2.5, 2.5, 2.5, 2.5], [2.5, 2.5, 2.5, 2.5, 2.5, 2.5, 2.5, 2.5, 2.5, 2.5, 2.5, 2.5, 2.5, 2.5, 4.0, 2.5, 2.5, 2.5, 2.5, 2.5], [2.5, 2.5, 2.5, 2.5, 2.5, 2.5, 2.5, 4.0, 2.5, 2.5, 2.5, 2.5, 2.5, 2.5, 2.5, 2.5, 2.5, 2.5, 2.5, 2.5], [2.5, 2.5, 2.5, 2.5, 2.5, 2.5, 2.5, 2.5, 2.5, 2.5, 2.5, 2.5, 4.5, 2.5, 2.5, 2.5, 2.5, 2.5, 2.5, 2.5], [2.5, 2.5, 2.5, 2.5, 2.5, 2.5, 2.5, 5.0, 2.5, 2.5, 2.5, 2.5, 2.5, 2.5, 2.5, 2.5, 2.5, 2.5, 2.5, 2.5], [2.5, 3.5, 2.5, 2.5, 2.5, 2.5, 2.5, 2.5, 2.5, 2.5, 2.5, 2.5, 2.5, 2.5, 2.5, 2.5, 2.5, 2.5, 2.5, 2.5], [2.5, 2.5, 2.5, 2.5, 2.5, 2.5, 2.5, 2.5, 2.5, 2.5, 2.5, 2.5, 2.5, 2.5, 2.5, 2.5, 2.5, 4.0, 2.5, 2.5], [2.5, 2.5, 2.5, 2.5, 2.5, 5.0, 2.5, 2.5, 2.5, 2.5, 2.5, 2.5, 2.5, 2.5, 2.5, 2.5, 2.5, 2.5, 2.5, 2.5], [2.5, 2.5, 2.5, 2.5, 4.0, 2.5, 2.5, 2.5, 2.5, 2.5, 2.5, 2.5, 2.5, 2.5, 2.5, 2.5, 2.5, 2.5, 2.5, 2.5], [2.5, 2.5, 5.0, 2.5, 2.5, 2.5, 2.5, 2.5, 2.5, 2.5, 2.5, 2.5, 2.5, 2.5, 2.5, 2.5, 2.5, 2.5, 2.5, 2.5], [2.5, 2.5, 2.5, 2.5, 2.5, 2.5, 2.5, 2.5, 2.5, 2.5, 2.5, 2.5, 2.5, 2.5, 2.5, 2.5, 2.5, 2.5, 3.5, 2.5], [2.5, 2.5, 2.5, 2.5, 2.5, 4.0, 2.5, 2.5, 2.5, 2.5, 2.5, 2.5, 2.5, 2.5, 2.5, 2.5, 2.5, 2.5, 2.5, 2.5], [2.5, 2.5, 2.5, 4.0, 2.5, 2.5, 2.5, 2.5, 2.5, 2.5, 2.5, 2.5, 2.5, 2.5, 2.5, 2.5, 2.5, 2.5, 2.5, 2.5], [2.5, 2.5, 2.5, 2.5, 2.5, 2.5, 2.5, 2.5, 2.5, 2.5, 2.5, 5.0, 2.5, 2.5, 2.5, 2.5, 2.5, 2.5, 2.5, 2.5], [2.5, 2.5, 2.5, 2.5, 2.5, 2.5, 2.5, 2.5, 2.5, 2.5, 2.5, 2.5, 2.5, 2.5, 2.5, 2.5, 2.5, 2.5, 2.5, 5.0], [2.5, 2.5, 2.5, 2.5, 2.5, 2.5, 2.5, 2.5, 2.5, 3.5, 2.5, 2.5, 2.5, 2.5, 2.5, 2.5, 2.5, 2.5, 2.5, 2.5], [2.5, 2.5, 2.5, 2.5, 2.5, 2.5, 2.5, 2.5, 2.5, 2.5, 2.5, 2.5, 2.5, 2.5, 2.5, 2.5, 2.5, 2.5, 2.5, 2.5], [2.5, 2.5, 2.5, 2.5, 2.5, 2.5, 2.5, 2.5, 2.5, 2.5, 2.5, 2.5, 2.5, 2.5, 2.5, 3.0, 2.5, 2.5, 2.5, 2.5], [2.5, 2.5, 2.5, 2.5, 2.5, 2.5, 2.5, 2.5, 2.5, 5.0, 2.5, 2.5, 2.5, 2.5, 2.5, 2.5, 2.5, 2.5, 2.5, 2.5], [2.5, 2.5, 2.5, 2.5, 2.5, 2.5, 2.5, 2.5, 2.5, 2.5, 2.5, 2.5, 2.5, 2.5, 2.5, 2.5, 2.5, 2.5, 2.5, 4.0], [2.5, 2.5, 2.5, 2.5, 2.5, 2.5, 2.5, 2.5, 2.5, 2.5, 2.5, 2.5, 2.5, 4.0, 2.5, 2.5, 2.5, 2.5, 2.5, 2.5], [2.5, 2.5, 2.5, 2.5, 2.5, 2.5, 2.5, 2.5, 2.5, 2.5, 2.5, 2.5, 2.5, 2.5, 2.5, 2.5, 2.5, 2.5, 2.5, 5.0], [4.0, 2.5, 2.5, 2.5, 2.5, 2.5, 2.5, 2.5, 2.5, 2.5, 2.5, 2.5, 2.5, 2.5, 2.5, 2.5, 2.5, 2.5, 2.5, 2.5], [2.5, 2.5, 2.5, 2.5, 2.5, 2.5, 2.5, 2.5, 2.5, 2.5, 2.5, 2.5, 2.5, 2.5, 2.5, 2.5, 2.5, 2.5, 2.5, 2.5], [2.5, 2.5, 2.5, 2.5, 2.5, 2.5, 2.5, 2.5, 2.5, 2.5, 2.5, 2.5, 2.5, 2.5, 2.5, 2.5, 2.5, 4.0, 2.5, 2.5], [2.5, 2.5, 2.5, 2.5, 2.5, 2.5, 2.5, 2.5, 2.5, 2.5, 2.5, 2.5, 2.5, 2.5, 2.5, 5.0, 2.5, 2.5, 2.5, 2.5], [2.5, 2.5, 2.5, 2.5, 2.5, 2.5, 2.5, 4.0, 2.5, 2.5, 2.5, 2.5, 2.5, 2.5, 2.5, 2.5, 2.5, 2.5, 2.5, 2.5], [2.5, 2.5, 2.5, 2.5, 2.5, 2.5, 2.5, 2.5, 2.5, 2.5, 2.5, 3.0, 2.5, 2.5, 2.5, 2.5, 2.5, 2.5, 2.5, 2.5], [2.5, 2.5, 5.0, 2.5, 2.5, 2.5, 2.5, 2.5, 2.5, 2.5, 2.5, 2.5, 2.5, 2.5, 2.5, 2.5, 2.5, 2.5, 2.5, 2.5], [2.5, 2.5, 2.5, 2.5, 2.5, 2.5, 2.5, 2.5, 2.5, 2.5, 2.5, 2.5, 2.5, 2.5, 2.5, 2.5, 2.5, 2.5, 2.5, 2.5], [2.5, 2.5, 2.5, 2.5, 2.5, 2.5, 2.5, 2.5, 2.5, 3.5, 2.5, 2.5, 2.5, 2.5, 2.5, 2.5, 2.5, 2.5, 2.5, 2.5], [2.5, 2.5, 2.5, 2.5, 4.0, 2.5, 2.5, 2.5, 2.5, 2.5, 2.5, 2.5, 2.5, 2.5, 2.5, 2.5, 2.5, 2.5, 2.5, 2.5], [2.5, 2.5, 2.5, 2.5, 2.5, 2.5, 2.5, 2.5, 2.5, 5.0, 2.5, 2.5, 2.5, 2.5, 2.5, 2.5, 2.5, 2.5, 2.5, 2.5], [2.5, 2.5, 2.5, 2.5, 2.5, 2.5, 2.5, 2.5, 2.5, 3.0, 2.5, 2.5, 2.5, 2.5, 2.5, 2.5, 2.5, 2.5, 2.5, 2.5], [2.5, 2.5, 2.5, 2.5, 2.5, 2.5, 5.0, 2.5, 2.5, 2.5, 2.5, 2.5, 2.5, 2.5, 2.5, 2.5, 2.5, 2.5, 2.5, 2.5], [2.5, 2.5, 2.5, 2.5, 2.5, 2.5, 2.5, 2.5, 2.5, 2.5, 4.0, 2.5, 2.5, 2.5, 2.5, 2.5, 2.5, 2.5, 2.5, 2.5], [2.5, 2.5, 2.5, 2.5, 2.5, 2.5, 2.5, 5.0, 2.5, 2.5, 2.5, 2.5, 2.5, 2.5, 2.5, 2.5, 2.5, 2.5, 2.5, 2.5], [2.5, 2.5, 2.5, 2.5, 2.5, 2.5, 2.5, 2.5, 2.5, 2.5, 2.5, 2.5, 2.5, 2.5, 2.5, 2.5, 2.0, 2.5, 2.5, 2.5], [2.5, 2.5, 2.5, 2.5, 2.5, 3.0, 2.5, 2.5, 2.5, 2.5, 2.5, 2.5, 2.5, 2.5, 2.5, 2.5, 2.5, 2.5, 2.5, 2.5], [2.5, 2.5, 2.5, 2.5, 2.5, 2.5, 2.5, 2.5, 2.5, 2.5, 2.5, 2.5, 2.5, 2.5, 2.5, 2.5, 2.5, 4.0, 2.5, 2.5], [2.5, 2.5, 2.5, 2.5, 5.0, 2.5, 2.5, 2.5, 2.5, 2.5, 2.5, 2.5, 2.5, 2.5, 2.5, 2.5, 2.5, 2.5, 2.5, 2.5], [2.5, 2.5, 2.5, 5.0, 2.5, 2.5, 2.5, 2.5, 2.5, 2.5, 2.5, 2.5, 2.5, 2.5, 2.5, 2.5, 2.5, 2.5, 2.5, 2.5], [2.0, 2.5, 2.5, 2.5, 2.5, 2.5, 2.5, 2.5, 2.5, 2.5, 2.5, 2.5, 2.5, 2.5, 2.5, 2.5, 2.5, 2.5, 2.5, 2.5], [2.5, 2.5, 2.5, 2.5, 2.5, 2.5, 2.5, 2.5, 2.5, 2.5, 2.5, 2.5, 2.5, 2.5, 2.5, 2.5, 2.5, 5.0, 2.5, 2.5], [2.5, 2.5, 2.5, 2.5, 2.5, 2.5, 2.5, 2.5, 4.0, 2.5, 2.5, 2.5, 2.5, 2.5, 2.5, 2.5, 2.5, 2.5, 2.5, 2.5], [2.5, 2.5, 2.5, 2.5, 2.5, 2.5, 2.5, 2.5, 2.5, 2.5, 2.5, 2.5, 2.5, 2.5, 2.5, 2.5, 2.5, 2.5, 5.0, 2.5], [2.5, 2.5, 2.5, 2.5, 2.5, 2.5, 5.0, 2.5, 2.5, 2.5, 2.5, 2.5, 2.5, 2.5, 2.5, 2.5, 2.5, 2.5, 2.5, 2.5], [2.5, 5.0, 2.5, 2.5, 2.5, 2.5, 2.5, 2.5, 2.5, 2.5, 2.5, 2.5, 2.5, 2.5, 2.5, 2.5, 2.5, 2.5, 2.5, 2.5], [2.5, 3.0, 2.5, 2.5, 2.5, 2.5, 2.5, 2.5, 2.5, 2.5, 2.5, 2.5, 2.5, 2.5, 2.5, 2.5, 2.5, 2.5, 2.5, 2.5], [2.5, 2.5, 2.5, 2.5, 2.5, 2.5, 2.5, 2.5, 2.5, 2.5, 2.5, 2.5, 2.5, 2.5, 2.5, 3.5, 2.5, 2.5, 2.5, 2.5], [2.5, 2.5, 2.5, 2.5, 2.5, 2.5, 2.5, 2.5, 4.0, 2.5, 2.5, 2.5, 2.5, 2.5, 2.5, 2.5, 2.5, 2.5, 2.5, 2.5], [2.5, 2.5, 2.5, 2.5, 4.0, 2.5, 2.5, 2.5, 2.5, 2.5, 2.5, 2.5, 2.5, 2.5, 2.5, 2.5, 2.5, 2.5, 2.5, 2.5], [2.5, 2.5, 2.5, 2.5, 2.5, 2.5, 2.5, 2.5, 2.5, 2.5, 2.5, 2.5, 2.5, 2.5, 2.5, 2.5, 4.0, 2.5, 2.5, 2.5]]\n"
     ]
    }
   ],
   "source": [
    "print(total_label)"
   ]
  },
  {
   "cell_type": "code",
   "execution_count": 5,
   "id": "fc0fcba9-b859-4056-b4c9-1f8ace21e3a2",
   "metadata": {},
   "outputs": [],
   "source": [
    "import numpy as np\n",
    "\n",
    "train_data = np.array(total_data)\n",
    "train_label = np.array(total_label)\n",
    "train_label /= 5"
   ]
  },
  {
   "cell_type": "code",
   "execution_count": 6,
   "id": "2dd3f8c2-b647-4bc1-a19d-964a4c124890",
   "metadata": {},
   "outputs": [],
   "source": [
    "from keras import models\n",
    "from keras import layers\n",
    "\n",
    "def build_model():\n",
    "    model = models.Sequential()\n",
    "    model.add(layers.Input(shape=(train_data.shape[1],)))\n",
    "    model.add(layers.Dense(16, activation='relu'))\n",
    "    model.add(layers.Dense(20, activation='relu'))\n",
    "    model.add(layers.Dense(20, activation='sigmoid'))\n",
    "    model.compile(optimizer='rmsprop', loss='mean_absolute_error', metrics=['mae'])\n",
    "    return model"
   ]
  },
  {
   "cell_type": "code",
   "execution_count": 7,
   "id": "a6b9c5ae-28ce-4591-a33d-e31098a29e6c",
   "metadata": {},
   "outputs": [
    {
     "name": "stdout",
     "output_type": "stream",
     "text": [
      "처리중인 폴드 # 0\n",
      "처리중인 폴드 # 1\n",
      "처리중인 폴드 # 2\n",
      "처리중인 폴드 # 3\n"
     ]
    }
   ],
   "source": [
    "k = 4\n",
    "num_val_samples = len(train_data) // k\n",
    "num_epochs = 40\n",
    "all_mae_histories = []\n",
    "for i in range(k):\n",
    "    print('처리중인 폴드 #', i)\n",
    "    val_x = train_data[i*num_val_samples:(i+1)*num_val_samples]\n",
    "    val_y = train_label[i*num_val_samples:(i+1)*num_val_samples]\n",
    "\n",
    "    partial_train_x = np.concatenate([train_data[:i*num_val_samples], train_data[(i+1)*num_val_samples:]], axis=0)\n",
    "    partial_train_y = np.concatenate([train_label[:i*num_val_samples], train_label[(i+1)*num_val_samples:]], axis=0)\n",
    "\n",
    "    model = build_model()\n",
    "    history = model.fit(partial_train_x, partial_train_y, validation_data=(val_x, val_y), epochs=num_epochs, batch_size=1, verbose=0)\n",
    "    mae_history = history.history['val_mae']\n",
    "    all_mae_histories.append(mae_history)"
   ]
  },
  {
   "cell_type": "code",
   "execution_count": 8,
   "id": "21ddb342-c0eb-466b-8e1d-f94c265ebf15",
   "metadata": {},
   "outputs": [],
   "source": [
    "average_mae_history = [np.mean([x[i] for x in all_mae_histories]) for i in range(num_epochs)]"
   ]
  },
  {
   "cell_type": "code",
   "execution_count": 9,
   "id": "e4224c86-57ae-460d-8ba3-2e53695d1b0b",
   "metadata": {},
   "outputs": [
    {
     "data": {
      "image/png": "[encoded data removed]",
      "text/plain": [
       "<Figure size 640x480 with 1 Axes>"
      ]
     },
     "metadata": {},
     "output_type": "display_data"
    }
   ],
   "source": [
    "import matplotlib.pyplot as plt\n",
    "plt.plot(range(1, len(average_mae_history)+1), average_mae_history)\n",
    "plt.xlabel('Epochs')\n",
    "plt.ylabel('Validation MAE')\n",
    "plt.show()"
   ]
  },
  {
   "cell_type": "code",
   "execution_count": 27,
   "id": "bfc29c7f-33e4-4344-a6ca-99d754742df9",
   "metadata": {},
   "outputs": [],
   "source": [
    "model.save('first.keras')"
   ]
  }
 ],
 "metadata": {
  "kernelspec": {
   "display_name": "AIdev",
   "language": "python",
   "name": "aidev"
  },
  "language_info": {
   "codemirror_mode": {
    "name": "ipython",
    "version": 3
   },
   "file_extension": ".py",
   "mimetype": "text/x-python",
   "name": "python",
   "nbconvert_exporter": "python",
   "pygments_lexer": "ipython3",
   "version": "3.10.13"
  }
 },
 "nbformat": 4,
 "nbformat_minor": 5
}
